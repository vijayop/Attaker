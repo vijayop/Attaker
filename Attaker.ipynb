{
  "nbformat": 4,
  "nbformat_minor": 0,
  "metadata": {
    "colab": {
      "name": "Attaker.ipynb",
      "provenance": [],
      "collapsed_sections": [],
      "authorship_tag": "ABX9TyOJdMeEWvZqU+5KnJZ3mSWC"
    },
    "kernelspec": {
      "name": "python3",
      "display_name": "Python 3"
    }
  },
  "cells": [
    {
      "cell_type": "code",
      "metadata": {
        "id": "ARG8Fv8MQwM-",
        "colab_type": "code",
        "colab": {
          "base_uri": "https://localhost:8080/",
          "height": 34
        },
        "outputId": "04436854-5ff2-407f-920b-a1bc43b4232f"
      },
      "source": [
        "# opening and reading the file\n",
        "fr = input(\"Enter the file name \")\n",
        "f = open(fr) \n",
        "test = f.read()"
      ],
      "execution_count": 11,
      "outputs": [
        {
          "output_type": "stream",
          "text": [
            "Enter the file name test.txt\n"
          ],
          "name": "stdout"
        }
      ]
    },
    {
      "cell_type": "code",
      "metadata": {
        "id": "xX4CwEJoROGa",
        "colab_type": "code",
        "colab": {}
      },
      "source": [
        "# defining the enrollment number list \n",
        "enno = ['170450107001',\n",
        "        '170450107002',\n",
        "        '170450107003',\n",
        "        '170450107004',\n",
        "        '170450107005',\n",
        "        '170450107006',\n",
        "        '170450107007',\n",
        "        '170450107008',\n",
        "        '170450107009',\n",
        "        '170450107010']"
      ],
      "execution_count": 13,
      "outputs": []
    },
    {
      "cell_type": "code",
      "metadata": {
        "id": "-GCJR-C3X9Mb",
        "colab_type": "code",
        "colab": {}
      },
      "source": [
        "# defining the corrosponding names to the enrollment numbers in the dictionary\n",
        "thedict = {\n",
        "        '170450107001' : 'student 1',\n",
        "        '170450107002' : 'student 2',\n",
        "        '170450107003' : 'student 3',\n",
        "        '170450107004' : 'student 4',\n",
        "        '170450107005' : 'student 5',\n",
        "        '170450107006' : 'student 6',\n",
        "        '170450107007' : 'student 7',\n",
        "        '170450107008' : 'student 8',\n",
        "        '170450107009' : 'student 9',\n",
        "        '170450107010' : 'student 10',                       \n",
        "}"
      ],
      "execution_count": 14,
      "outputs": []
    },
    {
      "cell_type": "code",
      "metadata": {
        "id": "rwdMqdBtmS73",
        "colab_type": "code",
        "colab": {}
      },
      "source": [
        "# reading and separting the words from the input file \n",
        "import re\n",
        "x = re.findall(r\"[\\w']+\", test)\n",
        "x = list(dict.fromkeys(x))"
      ],
      "execution_count": 15,
      "outputs": []
    },
    {
      "cell_type": "code",
      "metadata": {
        "id": "W8Bc2BBJm8jF",
        "colab_type": "code",
        "colab": {}
      },
      "source": [
        "# making a list of the present students  \n",
        "roll = []\n",
        "for i in x :\n",
        "  t = i.strip()\n",
        "  for j in range(0,len(enno)):\n",
        "    if t == enno[j] :\n",
        "      temp = t\n",
        "      roll.append(temp)"
      ],
      "execution_count": 16,
      "outputs": []
    },
    {
      "cell_type": "code",
      "metadata": {
        "id": "15KijdtM9fA6",
        "colab_type": "code",
        "colab": {
          "base_uri": "https://localhost:8080/",
          "height": 136
        },
        "outputId": "7fc2be9b-74a1-4d05-ce70-5e3ba4ae02b1"
      },
      "source": [
        "# printing out the present students in ascending order\n",
        "pcount = 0\n",
        "print(\"present students are :\")\n",
        "roll = sorted(roll)\n",
        "for i in roll : \n",
        "  t=i.strip()\n",
        "  print( t+ ' : ' + thedict[t] )\n",
        "  pcount = pcount+1\n"
      ],
      "execution_count": 17,
      "outputs": [
        {
          "output_type": "stream",
          "text": [
            "present students are :\n",
            "170450107002 : student 2\n",
            "170450107003 : student 3\n",
            "170450107005 : student 5\n",
            "170450107006 : student 6\n",
            "170450107008 : student 8\n",
            "170450107009 : student 9\n"
          ],
          "name": "stdout"
        }
      ]
    },
    {
      "cell_type": "code",
      "metadata": {
        "id": "7KVdxhuYTpAp",
        "colab_type": "code",
        "colab": {}
      },
      "source": [
        "# removing the present students from the enno list to find out the absent students\n",
        "for i in roll : \n",
        "  t2=i.strip()\n",
        "  enno.remove(t2)"
      ],
      "execution_count": 18,
      "outputs": []
    },
    {
      "cell_type": "code",
      "metadata": {
        "id": "Y9kgpA6HV0kt",
        "colab_type": "code",
        "colab": {
          "base_uri": "https://localhost:8080/",
          "height": 102
        },
        "outputId": "73edb934-73e1-4c9f-f3c5-32290ed71edc"
      },
      "source": [
        "# priting out the absent students\n",
        "count = 0\n",
        "print('absent students are : ')\n",
        "for i in enno:\n",
        "  t = i.strip()\n",
        "  print( t+ ' : '+thedict[t])\n",
        "  count = count+1\n"
      ],
      "execution_count": 19,
      "outputs": [
        {
          "output_type": "stream",
          "text": [
            "absent students are : \n",
            "170450107001 : student 1\n",
            "170450107004 : student 4\n",
            "170450107007 : student 7\n",
            "170450107010 : student 10\n"
          ],
          "name": "stdout"
        }
      ]
    },
    {
      "cell_type": "code",
      "metadata": {
        "id": "qr73Z2_N-_qg",
        "colab_type": "code",
        "colab": {
          "base_uri": "https://localhost:8080/",
          "height": 85
        },
        "outputId": "b2ee3e7c-eb28-45b8-de48-0b5eb9abc30d"
      },
      "source": [
        "# printing the totle count of the present and absent students\n",
        "print(\"\\n\\nTotal present student  :  \" + str(pcount))\n",
        "print(\"Total absent student  :  \" + str(count))"
      ],
      "execution_count": 20,
      "outputs": [
        {
          "output_type": "stream",
          "text": [
            "\n",
            "\n",
            "Total present student  :  6\n",
            "Total absent student  :  4\n"
          ],
          "name": "stdout"
        }
      ]
    },
    {
      "cell_type": "code",
      "metadata": {
        "id": "9XM4EDXchDUI",
        "colab_type": "code",
        "colab": {
          "base_uri": "https://localhost:8080/",
          "height": 103
        },
        "outputId": "0c8718f3-9121-4eda-8e80-6a45a98ce7fa"
      },
      "source": [
        "print('\\n\\nDeveloped by vijay parmar')\n",
        "input('Press Enter to teminate')\n"
      ],
      "execution_count": 21,
      "outputs": [
        {
          "output_type": "stream",
          "text": [
            "\n",
            "\n",
            "Developed by vijay parmar\n",
            "Press Enter to teminate\n"
          ],
          "name": "stdout"
        },
        {
          "output_type": "execute_result",
          "data": {
            "application/vnd.google.colaboratory.intrinsic+json": {
              "type": "string"
            },
            "text/plain": [
              "''"
            ]
          },
          "metadata": {
            "tags": []
          },
          "execution_count": 21
        }
      ]
    }
  ]
}